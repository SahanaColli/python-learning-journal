{
  "nbformat": 4,
  "nbformat_minor": 0,
  "metadata": {
    "colab": {
      "provenance": []
    },
    "kernelspec": {
      "name": "python3",
      "display_name": "Python 3"
    },
    "language_info": {
      "name": "python"
    }
  },
  "cells": [
    {
      "cell_type": "markdown",
      "source": [
        "**Kilometer to Mile**"
      ],
      "metadata": {
        "id": "Uz6DCP-3_YLZ"
      }
    },
    {
      "cell_type": "code",
      "execution_count": null,
      "metadata": {
        "colab": {
          "base_uri": "https://localhost:8080/"
        },
        "id": "9WH7oQTb9UVe",
        "outputId": "5e6fa8b8-aa62-4125-ed97-7510b1891755"
      },
      "outputs": [
        {
          "output_type": "stream",
          "name": "stdout",
          "text": [
            "enter kilometer: \n",
            "20\n",
            "20 kilometers = 12.43 miles\n"
          ]
        }
      ],
      "source": [
        "#learned input fucntion from https://www.w3schools.com/python/python_user_input.asp\n",
        "#learning round function from https://stackoverflow.com/questions/455612/limiting-floats-to-two-decimal-points\n",
        "print(\"enter kilometer: \")\n",
        "kilometer= int(input())\n",
        "mile= kilometer/1.609\n",
        "mile= round(mile, 2)\n",
        "print(kilometer,\"kilometers =\", mile, \"miles\")"
      ]
    },
    {
      "cell_type": "markdown",
      "source": [
        "**Celsius to Fahrenheit**"
      ],
      "metadata": {
        "id": "MP2hF-A7_FpL"
      }
    },
    {
      "cell_type": "code",
      "source": [
        "print(\"enter celsius: \")\n",
        "celsius= int(input())\n",
        "fahrenheit= (celsius * 9/5) + 32\n",
        "fahrenheit= round(fahrenheit, 2)\n",
        "print(celsius,\"C =\", fahrenheit, \"F\")"
      ],
      "metadata": {
        "colab": {
          "base_uri": "https://localhost:8080/"
        },
        "id": "b2I44Sqc_HB3",
        "outputId": "56afbb2d-f9a7-44c4-d56d-55c4eb50f499"
      },
      "execution_count": null,
      "outputs": [
        {
          "output_type": "stream",
          "name": "stdout",
          "text": [
            "enter celsius: \n",
            "20\n",
            "20 C = 68.0 F\n"
          ]
        }
      ]
    },
    {
      "cell_type": "markdown",
      "source": [
        "**Binary to Decimal**"
      ],
      "metadata": {
        "id": "8HLuRpCfAWn1"
      }
    },
    {
      "cell_type": "code",
      "source": [
        "binaryNum= 101101000\n",
        "bit1= 0\n",
        "bit2= 0\n",
        "bit3=0\n",
        "bit4=1\n",
        "bit5=0\n",
        "bit6=1\n",
        "bit7=1\n",
        "bit8=0\n",
        "bit9=1\n",
        "decimal= (1*bit1) + (2*bit2) + (4*bit3) + (8*bit4) + (16*bit5) + (32*bit6) + (64*bit7) + (128*bit8) + (256*bit9)\n",
        "print(binaryNum, \"=\", decimal)"
      ],
      "metadata": {
        "colab": {
          "base_uri": "https://localhost:8080/"
        },
        "id": "lxdO1zxQE9-L",
        "outputId": "d1dfc802-42da-4631-9c1f-51fa28583334"
      },
      "execution_count": null,
      "outputs": [
        {
          "output_type": "stream",
          "name": "stdout",
          "text": [
            "101101000 = 360\n"
          ]
        }
      ]
    }
  ]
}